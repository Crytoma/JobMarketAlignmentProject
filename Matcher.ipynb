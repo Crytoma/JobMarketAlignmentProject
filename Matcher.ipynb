{
 "cells": [
  {
   "cell_type": "code",
   "execution_count": 16,
   "metadata": {},
   "outputs": [],
   "source": [
    "# 5th March :: @20:20"
   ]
  },
  {
   "cell_type": "code",
   "execution_count": 17,
   "metadata": {},
   "outputs": [
    {
     "data": {
      "text/plain": [
       "(2, 768)"
      ]
     },
     "execution_count": 17,
     "metadata": {},
     "output_type": "execute_result"
    }
   ],
   "source": [
    "#Write some lines to encode (sentences 0 and 2 are both ideltical):\n",
    "sen = [\n",
    "    \"\"\"Skills â¢ Python â¢ Tableau â¢ Data Visualization â¢ R Studio â¢ Machine Learning â¢ Statistics IABAC Certified Data Scientist with versatile experience over 1+ years in managing business, data science consulting and leading innovation projects, bringing business ideas to working real world solutions. Being a strong advocator of augmented era, where human capabilities are enhanced by machines, Fahed is passionate about bringing business concepts in area of machine learning, AI, robotics etc., to real life solutions.Education Details \n",
    "January 2017 B. Tech Computer Science & Engineering Mohali, Punjab Indo Global College of Engineering\n",
    "Data Science Consultant \n",
    "\n",
    "Data Science Consultant - Datamites\n",
    "Skill Details \n",
    "MACHINE LEARNING- Exprience - 13 months\n",
    "PYTHON- Exprience - 24 months\n",
    "SOLUTIONS- Exprience - 24 months\n",
    "DATA SCIENCE- Exprience - 24 months\n",
    "DATA VISUALIZATION- Exprience - 24 months\n",
    "Tableau- Exprience - 24 monthsCompany Details \n",
    "company - Datamites\n",
    "description - â¢ Analyzed and processed complex data sets using advanced querying, visualization and analytics tools.\n",
    "â¢ Responsible for loading, extracting and validation of client data.\n",
    "â¢ Worked on manipulating, cleaning & processing data using python.\n",
    "â¢ Used Tableau for data visualization.\n",
    "company - Heretic Solutions Pvt Ltd\n",
    "description - â¢ Worked closely with business to identify issues and used data to propose solutions for effective decision making.\n",
    "â¢ Manipulating, cleansing & processing data using Python, Excel and R.\n",
    "â¢ Analyzed raw data, drawing conclusions & developing recommendations.\n",
    "â¢ Used machine learning tools and statistical techniques to produce solutions to problems.\"\"\",\n",
    "\"\"\"\n",
    "Data Analyst / Insight Analyst / SQL Data Analyst / Analytics Executive Widen The Net is a partner recruitment agency to Snapchat and we are hiring for their contract positions. Snapchat, world top 5 social media platform with 7000+ employees globally, 1000+ adverts display per day, 370M daily active users and revenue of $4 billion.Office based in central London, 4 days on site/1 day working from home. Initially 12 months full time contract and possible to become permanent afterwards, contract is inside IR35.Snap is looking for a Data Analyst to join their London Ad and business team where you will work closely with sales, account managers and clients to provide in-depth insight analysis and drive advertising performance, business revenue and growth:-Build dashboards, reports and insight analysis using SQL, Big Query, Tableau, Looker and Google Data Studio to optimize advertiser performance, product development and SME business growth;-Create data tools for the central Europe region;-Build and automate processes that can be scaled out for stakeholders and cross functional teams;-Work with Account Managers to provide real time analysis for campaigns and impact client and business success by providing analysis and recommendations;-Carry out quantitative data research Requirements:-Must have strong SQL experience;-Experience in creating data tool and automation that can be scaled out; -Experience in R or Python is a big plus;-Any working knowledge in advertising or performance or media or sales analysis is a big plus\n",
    "\"\"\"\n",
    "    \n",
    "]\n",
    "from sentence_transformers import SentenceTransformer\n",
    "model = SentenceTransformer('bert-base-nli-mean-tokens')\n",
    "#Encoding:\n",
    "sen_embeddings = model.encode(sen)\n",
    "sen_embeddings.shape"
   ]
  },
  {
   "cell_type": "code",
   "execution_count": 18,
   "metadata": {},
   "outputs": [
    {
     "data": {
      "text/plain": [
       "(2, 768)"
      ]
     },
     "execution_count": 18,
     "metadata": {},
     "output_type": "execute_result"
    }
   ],
   "source": [
    "#Encoding:\n",
    "sentence_embeddings = model.encode(sen)\n",
    "sentence_embeddings.shape"
   ]
  },
  {
   "cell_type": "code",
   "execution_count": 19,
   "metadata": {},
   "outputs": [
    {
     "data": {
      "text/plain": [
       "array([[0.71549994]], dtype=float32)"
      ]
     },
     "execution_count": 19,
     "metadata": {},
     "output_type": "execute_result"
    }
   ],
   "source": [
    "from sklearn.metrics.pairwise import cosine_similarity\n",
    "#let's calculate cosine similarity for sentence 0:\n",
    "cosine_similarity(\n",
    "    [sentence_embeddings[0]],\n",
    "    sentence_embeddings[1:]\n",
    ")"
   ]
  }
 ],
 "metadata": {
  "kernelspec": {
   "display_name": "Python 3",
   "language": "python",
   "name": "python3"
  },
  "language_info": {
   "codemirror_mode": {
    "name": "ipython",
    "version": 3
   },
   "file_extension": ".py",
   "mimetype": "text/x-python",
   "name": "python",
   "nbconvert_exporter": "python",
   "pygments_lexer": "ipython3",
   "version": "3.10.9"
  },
  "orig_nbformat": 4
 },
 "nbformat": 4,
 "nbformat_minor": 2
}
