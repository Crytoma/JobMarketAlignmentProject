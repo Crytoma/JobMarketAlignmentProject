{
 "cells": [
  {
   "cell_type": "code",
   "execution_count": 2,
   "metadata": {},
   "outputs": [],
   "source": [
    "# 7th March 2023 :: @12:43am\n"
   ]
  },
  {
   "cell_type": "code",
   "execution_count": 3,
   "metadata": {},
   "outputs": [],
   "source": [
    "import pandas as pd, numpy as np, torch\n",
    "\n",
    "import matplotlib.pyplot as plt\n",
    "import seaborn as sns\n",
    "import warnings, wget\n",
    "\n",
    "warnings.filterwarnings(\"ignore\")\n",
    "import tensorflow as tf\n",
    "from tensorflow.keras.layers import Dense, Dropout, Input, Flatten, BatchNormalization\n",
    "from tensorflow.keras.models import Model\n",
    "from tensorflow.keras.optimizers import Adam\n",
    "from tensorflow.keras.metrics import SparseCategoricalAccuracy\n",
    "from tensorflow.keras.callbacks import EarlyStopping, ModelCheckpoint\n",
    "from sklearn.model_selection import train_test_split\n",
    "from sklearn.metrics import classification_report, confusion_matrix\n",
    "from transformers import AutoTokenizer, TFDistilBertForSequenceClassification\n",
    "import pandas as pd\n",
    "import torch\n",
    "\n",
    "\"\"\"Importing libraries\"\"\"\n",
    "import numpy as np\n",
    "import pandas as pd\n",
    "import matplotlib.pyplot as plt\n",
    "import seaborn as sns\n",
    "\n",
    "plt.style.use(\"fivethirtyeight\")\n",
    "\n",
    "from tqdm import tqdm\n",
    "import time\n",
    "import re\n",
    "import string\n",
    "import nltk\n",
    "from nltk.corpus import stopwords\n",
    "from nltk.tokenize import word_tokenize\n",
    "\n",
    "from sklearn.model_selection import (\n",
    "    train_test_split,\n",
    "    GridSearchCV,\n",
    "    StratifiedKFold,\n",
    "    KFold,\n",
    "    cross_val_score,\n",
    ")\n",
    "\n",
    "import sklearn\n",
    "from sklearn.feature_extraction.text import CountVectorizer, TfidfVectorizer\n",
    "from sklearn.svm import SVC\n",
    "from sklearn.linear_model import LogisticRegression\n",
    "from sklearn.naive_bayes import MultinomialNB\n",
    "import xgboost as xgb\n",
    "from sklearn import preprocessing, model_selection, pipeline\n",
    "from sklearn.metrics import f1_score, roc_auc_score\n",
    "\n",
    "from keras.models import Sequential\n",
    "from keras.layers import LSTM, GRU\n",
    "from keras.layers.core import Dense, Activation, Dropout\n",
    "from keras.layers import Embedding\n",
    "from keras.layers import BatchNormalization\n",
    "from keras.utils import np_utils\n",
    "from keras.layers import (\n",
    "    GlobalMaxPooling1D,\n",
    "    Conv1D,\n",
    "    MaxPooling1D,\n",
    "    Flatten,\n",
    "    Bidirectional,\n",
    "    SpatialDropout1D,\n",
    ")\n",
    "from keras.preprocessing import sequence, text\n",
    "from keras.callbacks import EarlyStopping\n",
    "from transformers import BertTokenizer\n",
    "from collections.abc import Iterable\n",
    "from torchtext import data\n",
    "from transformers import BertModel\n",
    "import torch.nn as nn\n",
    "from transformers.optimization import *\n",
    "import torch.optim as optim\n",
    "import math\n",
    "from tensorflow.keras.utils import plot_model\n",
    "from wordcloud import WordCloud\n",
    "\n",
    "\n",
    "from helper_prabowo_ml import (\n",
    "    clean_html,\n",
    "    remove_links,\n",
    "    remove_special_characters,\n",
    "    removeStopWords,\n",
    "    remove_,\n",
    "    remove_digits,\n",
    "    lower,\n",
    "    email_address,\n",
    "    non_ascii,\n",
    "    punct,\n",
    ")\n"
   ]
  },
  {
   "cell_type": "code",
   "execution_count": 4,
   "metadata": {},
   "outputs": [
    {
     "name": "stderr",
     "output_type": "stream",
     "text": [
      "Some weights of the model checkpoint at jjzha/jobspanbert-base-cased were not used when initializing BertModel: ['cls.span_predictions.query_start_transform.LayerNorm.weight', 'cls.span_predictions.start_transform.dense.bias', 'cls.predictions.bias', 'cls.predictions.decoder.bias', 'cls.span_predictions.query_start_transform.dense.weight', 'cls.predictions.transform.dense.weight', 'cls.span_predictions.end_transform.LayerNorm.weight', 'cls.span_predictions.start_transform.dense.weight', 'cls.span_predictions.end_classifier', 'cls.span_predictions.start_transform.LayerNorm.bias', 'cls.span_predictions.query_end_transform.dense.bias', 'cls.span_predictions.query_end_transform.LayerNorm.bias', 'cls.span_predictions.end_transform.dense.bias', 'cls.span_predictions.query_start_transform.dense.bias', 'cls.span_predictions.query_end_transform.dense.weight', 'cls.predictions.transform.LayerNorm.bias', 'cls.span_predictions.query_end_transform.LayerNorm.weight', 'cls.span_predictions.start_classifier', 'cls.span_predictions.start_transform.LayerNorm.weight', 'cls.span_predictions.end_transform.LayerNorm.bias', 'cls.span_predictions.query_start_transform.LayerNorm.bias', 'cls.predictions.transform.dense.bias', 'cls.span_predictions.end_transform.dense.weight', 'cls.predictions.transform.LayerNorm.weight', 'cls.predictions.decoder.weight']\n",
      "- This IS expected if you are initializing BertModel from the checkpoint of a model trained on another task or with another architecture (e.g. initializing a BertForSequenceClassification model from a BertForPreTraining model).\n",
      "- This IS NOT expected if you are initializing BertModel from the checkpoint of a model that you expect to be exactly identical (initializing a BertForSequenceClassification model from a BertForSequenceClassification model).\n"
     ]
    }
   ],
   "source": [
    "from transformers import AutoTokenizer, AutoModel, AutoModelForSequenceClassification\n",
    "\n",
    "tokenizer = AutoTokenizer.from_pretrained(\"jjzha/jobspanbert-base-cased\")\n",
    "model = AutoModel.from_pretrained(\"jjzha/jobspanbert-base-cased\")\n"
   ]
  },
  {
   "cell_type": "code",
   "execution_count": 5,
   "metadata": {},
   "outputs": [],
   "source": [
    "df = pd.read_csv(\"datasets/linkedin-jobs-machine-learning-uk-2055_03062023.csv\")\n"
   ]
  },
  {
   "cell_type": "code",
   "execution_count": 6,
   "metadata": {},
   "outputs": [
    {
     "data": {
      "text/html": [
       "<div>\n",
       "<style scoped>\n",
       "    .dataframe tbody tr th:only-of-type {\n",
       "        vertical-align: middle;\n",
       "    }\n",
       "\n",
       "    .dataframe tbody tr th {\n",
       "        vertical-align: top;\n",
       "    }\n",
       "\n",
       "    .dataframe thead th {\n",
       "        text-align: right;\n",
       "    }\n",
       "</style>\n",
       "<table border=\"1\" class=\"dataframe\">\n",
       "  <thead>\n",
       "    <tr style=\"text-align: right;\">\n",
       "      <th></th>\n",
       "      <th>title</th>\n",
       "      <th>company</th>\n",
       "      <th>description</th>\n",
       "      <th>onsite_remote</th>\n",
       "      <th>salary</th>\n",
       "      <th>location</th>\n",
       "      <th>posted_date</th>\n",
       "      <th>link</th>\n",
       "      <th>seniority_level</th>\n",
       "      <th>employment_type</th>\n",
       "      <th>job_function</th>\n",
       "      <th>industries</th>\n",
       "    </tr>\n",
       "  </thead>\n",
       "  <tbody>\n",
       "    <tr>\n",
       "      <th>0</th>\n",
       "      <td>Junior Data Scientist</td>\n",
       "      <td>Oscar Technology</td>\n",
       "      <td>Role - Junior Data ScientistLocation - Manches...</td>\n",
       "      <td>onsite</td>\n",
       "      <td>NaN</td>\n",
       "      <td>Manchester, England, United Kingdom</td>\n",
       "      <td>2023-02-28</td>\n",
       "      <td>https://uk.linkedin.com/jobs/view/junior-data-...</td>\n",
       "      <td>Entry level</td>\n",
       "      <td>Full-time</td>\n",
       "      <td>Engineering and Information Technology</td>\n",
       "      <td>Staffing and Recruiting</td>\n",
       "    </tr>\n",
       "    <tr>\n",
       "      <th>1</th>\n",
       "      <td>Graduate Machine Learning / Data Scientist</td>\n",
       "      <td>Cambridge Consultants</td>\n",
       "      <td>IntroductionWe are looking for talented mathem...</td>\n",
       "      <td>onsite</td>\n",
       "      <td>NaN</td>\n",
       "      <td>Cambridge, England, United Kingdom</td>\n",
       "      <td>2023-02-27</td>\n",
       "      <td>https://uk.linkedin.com/jobs/view/graduate-mac...</td>\n",
       "      <td>Entry level</td>\n",
       "      <td>Full-time</td>\n",
       "      <td>Engineering and Information Technology</td>\n",
       "      <td>Design Services</td>\n",
       "    </tr>\n",
       "    <tr>\n",
       "      <th>2</th>\n",
       "      <td>Machine Learning Engineer</td>\n",
       "      <td>orbit</td>\n",
       "      <td>🚀Machine Learning Engineer🎥 Digital Media Serv...</td>\n",
       "      <td>onsite</td>\n",
       "      <td>NaN</td>\n",
       "      <td>Leeds, England, United Kingdom</td>\n",
       "      <td>2023-02-07</td>\n",
       "      <td>https://uk.linkedin.com/jobs/view/machine-lear...</td>\n",
       "      <td>Not Applicable</td>\n",
       "      <td>Full-time</td>\n",
       "      <td>Information Technology</td>\n",
       "      <td>Technology, Information and Internet</td>\n",
       "    </tr>\n",
       "  </tbody>\n",
       "</table>\n",
       "</div>"
      ],
      "text/plain": [
       "                                        title                company  \\\n",
       "0                       Junior Data Scientist       Oscar Technology   \n",
       "1  Graduate Machine Learning / Data Scientist  Cambridge Consultants   \n",
       "2                   Machine Learning Engineer                  orbit   \n",
       "\n",
       "                                         description onsite_remote salary  \\\n",
       "0  Role - Junior Data ScientistLocation - Manches...        onsite    NaN   \n",
       "1  IntroductionWe are looking for talented mathem...        onsite    NaN   \n",
       "2  🚀Machine Learning Engineer🎥 Digital Media Serv...        onsite    NaN   \n",
       "\n",
       "                              location posted_date  \\\n",
       "0  Manchester, England, United Kingdom  2023-02-28   \n",
       "1   Cambridge, England, United Kingdom  2023-02-27   \n",
       "2       Leeds, England, United Kingdom  2023-02-07   \n",
       "\n",
       "                                                link seniority_level  \\\n",
       "0  https://uk.linkedin.com/jobs/view/junior-data-...     Entry level   \n",
       "1  https://uk.linkedin.com/jobs/view/graduate-mac...     Entry level   \n",
       "2  https://uk.linkedin.com/jobs/view/machine-lear...  Not Applicable   \n",
       "\n",
       "  employment_type                            job_function  \\\n",
       "0       Full-time  Engineering and Information Technology   \n",
       "1       Full-time  Engineering and Information Technology   \n",
       "2       Full-time                  Information Technology   \n",
       "\n",
       "                             industries  \n",
       "0               Staffing and Recruiting  \n",
       "1                       Design Services  \n",
       "2  Technology, Information and Internet  "
      ]
     },
     "execution_count": 6,
     "metadata": {},
     "output_type": "execute_result"
    }
   ],
   "source": [
    "import ast\n",
    "\n",
    "\n",
    "# Define function to extract key-value pairs from criteria column\n",
    "def extract_criteria(criteria):\n",
    "    criteria_dict = {}\n",
    "    # Convert string to list of dictionaries using ast.literal_eval()\n",
    "    criteria_list = ast.literal_eval(criteria)\n",
    "    # Loop through each dictionary in the list\n",
    "    for d in criteria_list:\n",
    "        # Loop through each key-value pair in the dictionary\n",
    "        for key, value in d.items():\n",
    "            # Add key-value pair to criteria_dict\n",
    "            criteria_dict[key] = value\n",
    "    return criteria_dict\n",
    "\n",
    "\n",
    "# Apply function to 'criteria' column\n",
    "df_criteria = df[\"criteria\"].apply(extract_criteria).apply(pd.Series, dtype=object)\n",
    "\n",
    "# Concatenate criteria DataFrame with original DataFrame\n",
    "df = pd.concat([df.drop(\"criteria\", axis=1), df_criteria], axis=1)\n",
    "\n",
    "\n",
    "df = df.rename(\n",
    "    columns={\n",
    "        \"Seniority level\": \"seniority_level\",\n",
    "        \"Employment type\": \"employment_type\",\n",
    "        \"Job function\": \"job_function\",\n",
    "        \"Industries\": \"industries\",\n",
    "    }\n",
    ")\n",
    "# Display the result\n",
    "df.head(3)\n"
   ]
  },
  {
   "cell_type": "code",
   "execution_count": 7,
   "metadata": {},
   "outputs": [],
   "source": [
    "df = df[['description', 'title']]"
   ]
  },
  {
   "cell_type": "code",
   "execution_count": 8,
   "metadata": {},
   "outputs": [
    {
     "data": {
      "text/html": [
       "<div>\n",
       "<style scoped>\n",
       "    .dataframe tbody tr th:only-of-type {\n",
       "        vertical-align: middle;\n",
       "    }\n",
       "\n",
       "    .dataframe tbody tr th {\n",
       "        vertical-align: top;\n",
       "    }\n",
       "\n",
       "    .dataframe thead th {\n",
       "        text-align: right;\n",
       "    }\n",
       "</style>\n",
       "<table border=\"1\" class=\"dataframe\">\n",
       "  <thead>\n",
       "    <tr style=\"text-align: right;\">\n",
       "      <th></th>\n",
       "      <th>description</th>\n",
       "      <th>title</th>\n",
       "      <th>normalized_job_title</th>\n",
       "    </tr>\n",
       "  </thead>\n",
       "  <tbody>\n",
       "    <tr>\n",
       "      <th>0</th>\n",
       "      <td>Role - Junior Data ScientistLocation - Manches...</td>\n",
       "      <td>Junior Data Scientist</td>\n",
       "      <td>scientist</td>\n",
       "    </tr>\n",
       "    <tr>\n",
       "      <th>1</th>\n",
       "      <td>IntroductionWe are looking for talented mathem...</td>\n",
       "      <td>Graduate Machine Learning / Data Scientist</td>\n",
       "      <td>scientist</td>\n",
       "    </tr>\n",
       "    <tr>\n",
       "      <th>2</th>\n",
       "      <td>🚀Machine Learning Engineer🎥 Digital Media Serv...</td>\n",
       "      <td>Machine Learning Engineer</td>\n",
       "      <td>engineer</td>\n",
       "    </tr>\n",
       "    <tr>\n",
       "      <th>3</th>\n",
       "      <td>\"Please note that we are currently unable to p...</td>\n",
       "      <td>Deep Learning Engineer</td>\n",
       "      <td>NaN</td>\n",
       "    </tr>\n",
       "    <tr>\n",
       "      <th>4</th>\n",
       "      <td>The OpportunityOur mission is to change the wa...</td>\n",
       "      <td>Data Scientist</td>\n",
       "      <td>scientist</td>\n",
       "    </tr>\n",
       "    <tr>\n",
       "      <th>...</th>\n",
       "      <td>...</td>\n",
       "      <td>...</td>\n",
       "      <td>...</td>\n",
       "    </tr>\n",
       "    <tr>\n",
       "      <th>1261</th>\n",
       "      <td>Kantar is the world’s leading data, insights a...</td>\n",
       "      <td>Data Analyst</td>\n",
       "      <td>analyst</td>\n",
       "    </tr>\n",
       "    <tr>\n",
       "      <th>1262</th>\n",
       "      <td>Who are we?CellVoyant is a biotechnology compa...</td>\n",
       "      <td>Machine Learning Engineer</td>\n",
       "      <td>engineer</td>\n",
       "    </tr>\n",
       "    <tr>\n",
       "      <th>1263</th>\n",
       "      <td>The Opportunity Our mission is to change the w...</td>\n",
       "      <td>Data Scientist</td>\n",
       "      <td>scientist</td>\n",
       "    </tr>\n",
       "    <tr>\n",
       "      <th>1264</th>\n",
       "      <td>Role: Data and Insights AnalystLocation: Old T...</td>\n",
       "      <td>Data and Insights Analyst</td>\n",
       "      <td>NaN</td>\n",
       "    </tr>\n",
       "    <tr>\n",
       "      <th>1265</th>\n",
       "      <td>Data Scientist (Python / SQL) – Financial Sect...</td>\n",
       "      <td>Data Scientist (Python / SQL) – Financial Sect...</td>\n",
       "      <td>scientist</td>\n",
       "    </tr>\n",
       "  </tbody>\n",
       "</table>\n",
       "<p>1266 rows × 3 columns</p>\n",
       "</div>"
      ],
      "text/plain": [
       "                                            description  \\\n",
       "0     Role - Junior Data ScientistLocation - Manches...   \n",
       "1     IntroductionWe are looking for talented mathem...   \n",
       "2     🚀Machine Learning Engineer🎥 Digital Media Serv...   \n",
       "3     \"Please note that we are currently unable to p...   \n",
       "4     The OpportunityOur mission is to change the wa...   \n",
       "...                                                 ...   \n",
       "1261  Kantar is the world’s leading data, insights a...   \n",
       "1262  Who are we?CellVoyant is a biotechnology compa...   \n",
       "1263  The Opportunity Our mission is to change the w...   \n",
       "1264  Role: Data and Insights AnalystLocation: Old T...   \n",
       "1265  Data Scientist (Python / SQL) – Financial Sect...   \n",
       "\n",
       "                                                  title normalized_job_title  \n",
       "0                                 Junior Data Scientist            scientist  \n",
       "1            Graduate Machine Learning / Data Scientist            scientist  \n",
       "2                             Machine Learning Engineer             engineer  \n",
       "3                                Deep Learning Engineer                  NaN  \n",
       "4                                        Data Scientist            scientist  \n",
       "...                                                 ...                  ...  \n",
       "1261                                       Data Analyst              analyst  \n",
       "1262                          Machine Learning Engineer             engineer  \n",
       "1263                                     Data Scientist            scientist  \n",
       "1264                          Data and Insights Analyst                  NaN  \n",
       "1265  Data Scientist (Python / SQL) – Financial Sect...            scientist  \n",
       "\n",
       "[1266 rows x 3 columns]"
      ]
     },
     "execution_count": 8,
     "metadata": {},
     "output_type": "execute_result"
    }
   ],
   "source": [
    "# Define function to normalize job titles\n",
    "def normalize_job_title(title):\n",
    "    # Convert title to lowercase\n",
    "    title = title.lower()\n",
    "    # Remove punctuation\n",
    "    title = (\n",
    "        title.replace(\",\", \"\")\n",
    "        .replace(\".\", \"\")\n",
    "        .replace(\":\", \"\")\n",
    "        .replace(\"(\", \"\")\n",
    "        .replace(\")\", \"\")\n",
    "        .replace(\"-\", \" \")\n",
    "        .replace(\"/\", \" \")\n",
    "    )\n",
    "    # Tokenize title into words\n",
    "    words = word_tokenize(title)\n",
    "    # Remove stop words\n",
    "    stop_words = set(stopwords.words(\"english\"))\n",
    "    words = [word for word in words if word not in stop_words]\n",
    "    # Extract keywords from words\n",
    "    keywords = []\n",
    "    for word in words:\n",
    "        if word in [\"scientist\", \"engineer\", \"manager\", \"analyst\"]:\n",
    "            keywords.append(word)\n",
    "    # Join keywords into a string\n",
    "    return \" \".join(keywords)\n",
    "\n",
    "\n",
    "# Apply function to 'titles' column where the job title contains \"machine learning\" or \"data scientist\"\n",
    "df.loc[\n",
    "    df[\"title\"].str.contains(\"machine learning|data scientist|data analyst\", case=False),\n",
    "    \"normalized_job_title\",\n",
    "] = df[\"title\"].apply(normalize_job_title)\n",
    "\n",
    "# Display the result\n",
    "df\n"
   ]
  },
  {
   "cell_type": "code",
   "execution_count": 9,
   "metadata": {},
   "outputs": [
    {
     "data": {
      "text/plain": [
       "{'Junior Data Scientist': 0,\n",
       " 'Graduate Machine Learning / Data Scientist': 1,\n",
       " 'Machine Learning Engineer': 2,\n",
       " 'Deep Learning Engineer': 3,\n",
       " 'Data Scientist': 4,\n",
       " 'Applied Machine Learning Engineer': 5,\n",
       " 'Graduate Machine Learning Software Engineer': 6,\n",
       " 'Artificial Intelligence / Machine Learning Engineer - Autonomous': 7,\n",
       " 'Applied Data Scientist': 8,\n",
       " 'Data Engineer (Machine Learning)': 9,\n",
       " 'Data Analyst': 10,\n",
       " 'Junior/Senior/Chief AI Scientist': 11,\n",
       " 'Data Analyst - Marketing': 12,\n",
       " 'Senior Machine Learning Engineer': 13,\n",
       " 'Data Scientist Lead': 14,\n",
       " 'Machine Learning Scientist': 15,\n",
       " 'Machine Learning Engineer (Internship/Part-Time)': 16,\n",
       " 'Computer Vision Research Engineer - Deep Learning': 17,\n",
       " 'ML Engineer Intern': 18,\n",
       " 'Senior Data Scientist': 19,\n",
       " 'Lead Data Scientist': 20,\n",
       " 'AI Data Scientist - Contract or Perm': 21,\n",
       " 'Machine Learning Engineer, Modeling': 22,\n",
       " 'Data Science Manager': 23,\n",
       " 'Scientific Algorithm Developer - Machine Learning': 24,\n",
       " 'Software / Machine Learning Engineer - BioAI': 25,\n",
       " 'Graduate/Junior Python Engineer': 26,\n",
       " 'Research Engineer - Applied Reinforcement Learning': 27,\n",
       " 'Python Developer': 28,\n",
       " 'AI/ML - Intern (Private Federated Learning - Machine Learning Engineer), MLPT': 29,\n",
       " 'Research Associate - Bioinformatician (Fixed Term)': 30,\n",
       " 'Python Developers Required at All Levels': 31,\n",
       " 'Junior Data Engineer': 32,\n",
       " 'JUNIOR DATA SCIENTIST - Dubai, UAE': 33,\n",
       " 'Research Intern - Robotics': 34,\n",
       " 'Python Software Engineer (Internship)': 35,\n",
       " 'Data Scientist/ Statistician': 36,\n",
       " 'ML Engineer intern': 37,\n",
       " 'Remote Junior Python Developer': 38,\n",
       " 'ML Engineer': 39,\n",
       " 'Data Scientist, Machine Learning': 40,\n",
       " 'Data Scientist - Permanent Remote Up to $150k + Equity': 41,\n",
       " 'Bioinformatician (Remote - Nextflow Developer)': 42,\n",
       " 'Software / AI / Machine Learning Engineer - Remote': 43,\n",
       " 'Bioinformatician (Remote - WDL Developer)': 44,\n",
       " 'Data & AI Consultant': 45,\n",
       " 'Machine Learning Engineer | ML Engineer': 46,\n",
       " 'Head of Data Science': 47,\n",
       " 'AI/ML Engineer': 48,\n",
       " 'Deep Learning Solutions Engineer': 49,\n",
       " 'Research Internship': 50,\n",
       " 'Mid-Level Python Developer - Remote (£50k - £65k)': 51,\n",
       " 'Data Engineer': 52,\n",
       " 'REMOTE Python Developer Software Engineer Finance London': 53,\n",
       " 'Head of Product — fintech (relocation to Dubai)': 54,\n",
       " 'Lead AI Programmer (UK Remote)': 55,\n",
       " 'Data Analyst - Remote - Up to GBP38k': 56,\n",
       " 'Deployment Engineer': 57,\n",
       " 'Data Engineers - Leeds/York/Remote - £60-95k': 58,\n",
       " 'Graduate Software Engineer (Feb- April 2023 Start)': 59,\n",
       " 'Research Analyst Internship': 60,\n",
       " 'Analytics & Data Science Curriculum Specialist': 61,\n",
       " 'Senior Data Analyst': 62,\n",
       " 'Senior Python Developer, REMOTE, GBP 70k/annum': 63,\n",
       " 'Software Engineer - Computer Vision': 64,\n",
       " 'Python Developer – Fully Remote (UK)': 65,\n",
       " 'Analyst/Data Scientist (Financial)': 66,\n",
       " 'Machine Learning Scientist II (Fraud)': 67,\n",
       " 'Financial Crime Data Scientist': 68,\n",
       " 'Online Course Instructor - Machine Learning / Data Engineering (Part-Time, Contract)': 69,\n",
       " 'Junior Research Analyst/Data Scientist': 70,\n",
       " 'Research Engineer - AI Theory': 71,\n",
       " 'Data Scientist - £50-70k': 72,\n",
       " 'AI/ML Internship': 73,\n",
       " 'Data Scientist (Python / SQL) – Financial Sector - £600 p/d inside IR35': 74,\n",
       " 'Computer Vision Engineer': 75,\n",
       " 'Data Scientist - ESO': 76,\n",
       " 'Data Scientist (Graduate Role)': 77,\n",
       " 'Data and Insights Analyst': 78}"
      ]
     },
     "execution_count": 9,
     "metadata": {},
     "output_type": "execute_result"
    }
   ],
   "source": [
    "labels_dict = {}\n",
    "\n",
    "for idx, label in enumerate(df.title.unique()):\n",
    "    labels_dict[label] = idx\n",
    "\n",
    "labels_dict\n"
   ]
  },
  {
   "cell_type": "code",
   "execution_count": 10,
   "metadata": {},
   "outputs": [],
   "source": [
    "df.title = df.title.apply(func=lambda x: labels_dict[x])\n",
    "df.title = df.title.astype(np.int64)\n"
   ]
  },
  {
   "cell_type": "code",
   "execution_count": 11,
   "metadata": {},
   "outputs": [],
   "source": [
    "df = df[[\"description\", \"title\"]]\n"
   ]
  },
  {
   "cell_type": "code",
   "execution_count": 12,
   "metadata": {},
   "outputs": [],
   "source": [
    "def text_preprocess(data, col):\n",
    "    data[col] = data[col].apply(func=clean_html)\n",
    "    data[col] = data[col].apply(func=remove_)\n",
    "    data[col] = data[col].apply(func=removeStopWords)\n",
    "    data[col] = data[col].apply(func=remove_digits)\n",
    "    data[col] = data[col].apply(func=remove_links)\n",
    "    data[col] = data[col].apply(func=remove_special_characters)\n",
    "    data[col] = data[col].apply(func=punct)\n",
    "    data[col] = data[col].apply(func=non_ascii)\n",
    "    data[col] = data[col].apply(func=email_address)\n",
    "    data[col] = data[col].apply(func=lower)\n",
    "    return data\n"
   ]
  },
  {
   "cell_type": "code",
   "execution_count": 13,
   "metadata": {},
   "outputs": [
    {
     "data": {
      "text/html": [
       "<div>\n",
       "<style scoped>\n",
       "    .dataframe tbody tr th:only-of-type {\n",
       "        vertical-align: middle;\n",
       "    }\n",
       "\n",
       "    .dataframe tbody tr th {\n",
       "        vertical-align: top;\n",
       "    }\n",
       "\n",
       "    .dataframe thead th {\n",
       "        text-align: right;\n",
       "    }\n",
       "</style>\n",
       "<table border=\"1\" class=\"dataframe\">\n",
       "  <thead>\n",
       "    <tr style=\"text-align: right;\">\n",
       "      <th></th>\n",
       "      <th>description</th>\n",
       "      <th>title</th>\n",
       "    </tr>\n",
       "  </thead>\n",
       "  <tbody>\n",
       "    <tr>\n",
       "      <th>0</th>\n",
       "      <td>role junior data scientistlocation manchester ...</td>\n",
       "      <td>0</td>\n",
       "    </tr>\n",
       "    <tr>\n",
       "      <th>1</th>\n",
       "      <td>introductionwe looking talented mathematicians...</td>\n",
       "      <td>1</td>\n",
       "    </tr>\n",
       "    <tr>\n",
       "      <th>2</th>\n",
       "      <td>machine learning engineer digital media servic...</td>\n",
       "      <td>2</td>\n",
       "    </tr>\n",
       "    <tr>\n",
       "      <th>3</th>\n",
       "      <td>please note currently unable provide visa spon...</td>\n",
       "      <td>3</td>\n",
       "    </tr>\n",
       "    <tr>\n",
       "      <th>4</th>\n",
       "      <td>the opportunityour mission change way world wo...</td>\n",
       "      <td>4</td>\n",
       "    </tr>\n",
       "  </tbody>\n",
       "</table>\n",
       "</div>"
      ],
      "text/plain": [
       "                                         description  title\n",
       "0  role junior data scientistlocation manchester ...      0\n",
       "1  introductionwe looking talented mathematicians...      1\n",
       "2  machine learning engineer digital media servic...      2\n",
       "3  please note currently unable provide visa spon...      3\n",
       "4  the opportunityour mission change way world wo...      4"
      ]
     },
     "execution_count": 13,
     "metadata": {},
     "output_type": "execute_result"
    }
   ],
   "source": [
    "preprocessed_df = text_preprocess(df, \"description\")\n",
    "\n",
    "preprocessed_df.head()\n"
   ]
  },
  {
   "cell_type": "code",
   "execution_count": 14,
   "metadata": {},
   "outputs": [
    {
     "data": {
      "text/plain": [
       "'role junior data scientistlocation manchester can remoteskills python essential full training provid'"
      ]
     },
     "execution_count": 14,
     "metadata": {},
     "output_type": "execute_result"
    }
   ],
   "source": [
    "preprocessed_df[\"description\"].iloc[0][:100]\n"
   ]
  },
  {
   "cell_type": "code",
   "execution_count": 15,
   "metadata": {},
   "outputs": [],
   "source": [
    "preprocessed_df\n",
    "df = preprocessed_df\n"
   ]
  },
  {
   "cell_type": "code",
   "execution_count": 16,
   "metadata": {},
   "outputs": [
    {
     "name": "stdout",
     "output_type": "stream",
     "text": [
      "CPU times: user 697 ms, sys: 2.19 ms, total: 699 ms\n",
      "Wall time: 697 ms\n"
     ]
    },
    {
     "data": {
      "text/plain": [
       "(1266,)"
      ]
     },
     "execution_count": 16,
     "metadata": {},
     "output_type": "execute_result"
    }
   ],
   "source": [
    "%%time\n",
    "# Tokenization\n",
    "tokenized = df['description'].apply((lambda x: tokenizer.encode(x, max_length = 48, add_special_tokens=True, truncation=True)))\n",
    "tokenized.shape"
   ]
  },
  {
   "cell_type": "code",
   "execution_count": 17,
   "metadata": {},
   "outputs": [],
   "source": [
    "target = df[\"title\"]\n"
   ]
  },
  {
   "cell_type": "code",
   "execution_count": 18,
   "metadata": {},
   "outputs": [
    {
     "data": {
      "text/plain": [
       "(1266, 48)"
      ]
     },
     "execution_count": 18,
     "metadata": {},
     "output_type": "execute_result"
    }
   ],
   "source": [
    "# Padding ==> convert 1D array to 2D array\n",
    "max_len = 0\n",
    "for i in tokenized.values:\n",
    "    if len(i) > max_len:\n",
    "        max_len = len(i)\n",
    "\n",
    "padded = np.array([i + [0] * (max_len - len(i)) for i in tokenized.values])\n",
    "np.array(padded).shape\n"
   ]
  },
  {
   "cell_type": "code",
   "execution_count": 19,
   "metadata": {},
   "outputs": [
    {
     "data": {
      "text/plain": [
       "(1266, 48)"
      ]
     },
     "execution_count": 19,
     "metadata": {},
     "output_type": "execute_result"
    }
   ],
   "source": [
    "# Masking ==>  ignore (mask) the padding we've added\n",
    "attention_mask = np.where(padded != 0, 1, 0)\n",
    "attention_mask.shape\n"
   ]
  },
  {
   "cell_type": "code",
   "execution_count": 20,
   "metadata": {},
   "outputs": [],
   "source": [
    "input_ids = torch.tensor(padded)\n",
    "attention_mask = torch.tensor(attention_mask)\n",
    "\n",
    "with torch.no_grad():\n",
    "    last_hidden_states = model(input_ids, attention_mask=attention_mask)"
   ]
  },
  {
   "cell_type": "code",
   "execution_count": 21,
   "metadata": {},
   "outputs": [],
   "source": [
    "features = last_hidden_states[0][:, 0, :].numpy()\n",
    "labels = df[\"title\"]\n"
   ]
  },
  {
   "cell_type": "code",
   "execution_count": 22,
   "metadata": {},
   "outputs": [],
   "source": [
    "train_features, test_features, train_labels, test_labels = train_test_split(\n",
    "    features, labels\n",
    ")\n"
   ]
  },
  {
   "cell_type": "code",
   "execution_count": 23,
   "metadata": {},
   "outputs": [
    {
     "data": {
      "text/html": [
       "<style>#sk-container-id-1 {color: black;background-color: white;}#sk-container-id-1 pre{padding: 0;}#sk-container-id-1 div.sk-toggleable {background-color: white;}#sk-container-id-1 label.sk-toggleable__label {cursor: pointer;display: block;width: 100%;margin-bottom: 0;padding: 0.3em;box-sizing: border-box;text-align: center;}#sk-container-id-1 label.sk-toggleable__label-arrow:before {content: \"▸\";float: left;margin-right: 0.25em;color: #696969;}#sk-container-id-1 label.sk-toggleable__label-arrow:hover:before {color: black;}#sk-container-id-1 div.sk-estimator:hover label.sk-toggleable__label-arrow:before {color: black;}#sk-container-id-1 div.sk-toggleable__content {max-height: 0;max-width: 0;overflow: hidden;text-align: left;background-color: #f0f8ff;}#sk-container-id-1 div.sk-toggleable__content pre {margin: 0.2em;color: black;border-radius: 0.25em;background-color: #f0f8ff;}#sk-container-id-1 input.sk-toggleable__control:checked~div.sk-toggleable__content {max-height: 200px;max-width: 100%;overflow: auto;}#sk-container-id-1 input.sk-toggleable__control:checked~label.sk-toggleable__label-arrow:before {content: \"▾\";}#sk-container-id-1 div.sk-estimator input.sk-toggleable__control:checked~label.sk-toggleable__label {background-color: #d4ebff;}#sk-container-id-1 div.sk-label input.sk-toggleable__control:checked~label.sk-toggleable__label {background-color: #d4ebff;}#sk-container-id-1 input.sk-hidden--visually {border: 0;clip: rect(1px 1px 1px 1px);clip: rect(1px, 1px, 1px, 1px);height: 1px;margin: -1px;overflow: hidden;padding: 0;position: absolute;width: 1px;}#sk-container-id-1 div.sk-estimator {font-family: monospace;background-color: #f0f8ff;border: 1px dotted black;border-radius: 0.25em;box-sizing: border-box;margin-bottom: 0.5em;}#sk-container-id-1 div.sk-estimator:hover {background-color: #d4ebff;}#sk-container-id-1 div.sk-parallel-item::after {content: \"\";width: 100%;border-bottom: 1px solid gray;flex-grow: 1;}#sk-container-id-1 div.sk-label:hover label.sk-toggleable__label {background-color: #d4ebff;}#sk-container-id-1 div.sk-serial::before {content: \"\";position: absolute;border-left: 1px solid gray;box-sizing: border-box;top: 0;bottom: 0;left: 50%;z-index: 0;}#sk-container-id-1 div.sk-serial {display: flex;flex-direction: column;align-items: center;background-color: white;padding-right: 0.2em;padding-left: 0.2em;position: relative;}#sk-container-id-1 div.sk-item {position: relative;z-index: 1;}#sk-container-id-1 div.sk-parallel {display: flex;align-items: stretch;justify-content: center;background-color: white;position: relative;}#sk-container-id-1 div.sk-item::before, #sk-container-id-1 div.sk-parallel-item::before {content: \"\";position: absolute;border-left: 1px solid gray;box-sizing: border-box;top: 0;bottom: 0;left: 50%;z-index: -1;}#sk-container-id-1 div.sk-parallel-item {display: flex;flex-direction: column;z-index: 1;position: relative;background-color: white;}#sk-container-id-1 div.sk-parallel-item:first-child::after {align-self: flex-end;width: 50%;}#sk-container-id-1 div.sk-parallel-item:last-child::after {align-self: flex-start;width: 50%;}#sk-container-id-1 div.sk-parallel-item:only-child::after {width: 0;}#sk-container-id-1 div.sk-dashed-wrapped {border: 1px dashed gray;margin: 0 0.4em 0.5em 0.4em;box-sizing: border-box;padding-bottom: 0.4em;background-color: white;}#sk-container-id-1 div.sk-label label {font-family: monospace;font-weight: bold;display: inline-block;line-height: 1.2em;}#sk-container-id-1 div.sk-label-container {text-align: center;}#sk-container-id-1 div.sk-container {/* jupyter's `normalize.less` sets `[hidden] { display: none; }` but bootstrap.min.css set `[hidden] { display: none !important; }` so we also need the `!important` here to be able to override the default hidden behavior on the sphinx rendered scikit-learn.org. See: https://github.com/scikit-learn/scikit-learn/issues/21755 */display: inline-block !important;position: relative;}#sk-container-id-1 div.sk-text-repr-fallback {display: none;}</style><div id=\"sk-container-id-1\" class=\"sk-top-container\"><div class=\"sk-text-repr-fallback\"><pre>LogisticRegression()</pre><b>In a Jupyter environment, please rerun this cell to show the HTML representation or trust the notebook. <br />On GitHub, the HTML representation is unable to render, please try loading this page with nbviewer.org.</b></div><div class=\"sk-container\" hidden><div class=\"sk-item\"><div class=\"sk-estimator sk-toggleable\"><input class=\"sk-toggleable__control sk-hidden--visually\" id=\"sk-estimator-id-1\" type=\"checkbox\" checked><label for=\"sk-estimator-id-1\" class=\"sk-toggleable__label sk-toggleable__label-arrow\">LogisticRegression</label><div class=\"sk-toggleable__content\"><pre>LogisticRegression()</pre></div></div></div></div></div>"
      ],
      "text/plain": [
       "LogisticRegression()"
      ]
     },
     "execution_count": 23,
     "metadata": {},
     "output_type": "execute_result"
    }
   ],
   "source": [
    "lr_clf = LogisticRegression()\n",
    "lr_clf.fit(train_features, train_labels)\n"
   ]
  },
  {
   "cell_type": "code",
   "execution_count": 24,
   "metadata": {},
   "outputs": [
    {
     "data": {
      "text/plain": [
       "0.580441640378549"
      ]
     },
     "execution_count": 24,
     "metadata": {},
     "output_type": "execute_result"
    }
   ],
   "source": [
    "lr_clf.score(test_features, test_labels)\n"
   ]
  },
  {
   "cell_type": "code",
   "execution_count": 25,
   "metadata": {},
   "outputs": [
    {
     "name": "stdout",
     "output_type": "stream",
     "text": [
      "Dummy classifier score: 0.290 (+/- 0.00)\n"
     ]
    }
   ],
   "source": [
    "from sklearn.dummy import DummyClassifier\n",
    "\n",
    "clf = DummyClassifier()\n",
    "\n",
    "scores = cross_val_score(clf, train_features, train_labels)\n",
    "print(\"Dummy classifier score: %0.3f (+/- %0.2f)\" % (scores.mean(), scores.std() * 2))\n"
   ]
  }
 ],
 "metadata": {
  "kernelspec": {
   "display_name": "pytorch-gpu",
   "language": "python",
   "name": "python3"
  },
  "language_info": {
   "codemirror_mode": {
    "name": "ipython",
    "version": 3
   },
   "file_extension": ".py",
   "mimetype": "text/x-python",
   "name": "python",
   "nbconvert_exporter": "python",
   "pygments_lexer": "ipython3",
   "version": "3.10.9"
  },
  "orig_nbformat": 4,
  "vscode": {
   "interpreter": {
    "hash": "d80aebe6ff4505d76fe4ed633f36faa1899c83e26cd8527be386bcad173c43b2"
   }
  }
 },
 "nbformat": 4,
 "nbformat_minor": 2
}
